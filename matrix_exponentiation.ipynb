{
  "nbformat": 4,
  "nbformat_minor": 0,
  "metadata": {
    "colab": {
      "provenance": []
    },
    "kernelspec": {
      "name": "python3",
      "display_name": "Python 3"
    },
    "language_info": {
      "name": "python"
    }
  },
  "cells": [
    {
      "cell_type": "code",
      "execution_count": 1,
      "metadata": {
        "colab": {
          "base_uri": "https://localhost:8080/"
        },
        "id": "bGH126OYNN8F",
        "outputId": "033862fb-b9ee-4206-d0ca-0a2301f93304"
      },
      "outputs": [
        {
          "output_type": "stream",
          "name": "stdout",
          "text": [
            "Original Matrix:\n",
            "[[2 1]\n",
            " [1 3]]\n",
            "Matrix raised to the power 3:\n",
            "[[15 20]\n",
            " [20 35]]\n"
          ]
        }
      ],
      "source": [
        "import numpy as np\n",
        "\n",
        "# Define a square matrix\n",
        "matrix = np.array([[2, 1],\n",
        "                   [1, 3]])\n",
        "\n",
        "# Define the exponent\n",
        "power = 3\n",
        "\n",
        "# Perform matrix exponentiation\n",
        "result = np.linalg.matrix_power(matrix, power)\n",
        "\n",
        "print(\"Original Matrix:\")\n",
        "print(matrix)\n",
        "print(f\"Matrix raised to the power {power}:\")\n",
        "print(result)\n"
      ]
    },
    {
      "cell_type": "code",
      "source": [
        "negative_power = -1\n",
        "result_negative = np.linalg.matrix_power(matrix, negative_power)\n",
        "\n",
        "print(f\"Matrix raised to the power {negative_power}:\")\n",
        "print(result_negative)\n"
      ],
      "metadata": {
        "colab": {
          "base_uri": "https://localhost:8080/"
        },
        "id": "JKtpQ5jdOapi",
        "outputId": "03941fff-66e9-4410-c31d-40abe988fc3b"
      },
      "execution_count": 2,
      "outputs": [
        {
          "output_type": "stream",
          "name": "stdout",
          "text": [
            "Matrix raised to the power -1:\n",
            "[[ 0.6 -0.2]\n",
            " [-0.2  0.4]]\n"
          ]
        }
      ]
    }
  ]
}